{
  "cells": [
    {
      "cell_type": "code",
      "execution_count": null,
      "id": "91853e2b",
      "metadata": {
        "id": "91853e2b",
        "outputId": "b0d7d73b-afd5-4548-c168-76a1b52141cd"
      },
      "outputs": [
        {
          "data": {
            "text/plain": [
              "'1.23.2'"
            ]
          },
          "execution_count": 1,
          "metadata": {},
          "output_type": "execute_result"
        }
      ],
      "source": [
        "import numpy as np\n",
        "np.__version__"
      ]
    },
    {
      "cell_type": "code",
      "execution_count": null,
      "id": "29717356",
      "metadata": {
        "id": "29717356"
      },
      "outputs": [],
      "source": [
        "class TicTacToe:\n",
        "    def __init__(self):\n",
        "        self.row_count = 3\n",
        "        self.column_count = 3\n",
        "        self.action_size = self.row_count * self.column_count\n",
        "\n",
        "    def get_initial_state(self):\n",
        "        return np.zeros((self.row_count, self.column_count))\n",
        "\n",
        "    def get_next_state(self, state, action, player):\n",
        "        row = action // self.column_count\n",
        "        column = action % self.column_count\n",
        "        state[row, column] = player\n",
        "        return state\n",
        "\n",
        "    def get_valid_moves(self, state):\n",
        "        return (state.reshape(-1) == 0).astype(np.uint8)\n",
        "\n",
        "    def check_win(self, state, action):\n",
        "        row = action // self.column_count\n",
        "        column = action % self.column_count\n",
        "        player = state[row, column]\n",
        "\n",
        "        return (\n",
        "            np.sum(state[row, :]) == player * self.column_count\n",
        "            or np.sum(state[:, column]) == player * self.row_count\n",
        "            or np.sum(np.diag(state)) == player * self.row_count\n",
        "            or np.sum(np.diag(np.flip(state, axis=0))) == player * self.row_count\n",
        "        )\n",
        "\n",
        "    def get_value_and_terminated(self, state, action):\n",
        "        if self.check_win(state, action):\n",
        "            return 1, True\n",
        "        if np.sum(self.get_valid_moves(state)) == 0:\n",
        "            return 0, True\n",
        "        return 0, False\n",
        "\n",
        "    def get_opponent(self, player):\n",
        "        return -player"
      ]
    },
    {
      "cell_type": "code",
      "metadata": {
        "id": "cf1f1e4d",
        "outputId": "01a447dc-0029-48f1-fc57-d5cdc65d9541",
        "colab": {
          "base_uri": "https://localhost:8080/"
        }
      },
      "source": [
        "import numpy as np\n",
        "import matplotlib.pyplot as plt\n",
        "\n",
        "class TicTacToe:\n",
        "    def __init__(self):\n",
        "        self.row_count = 3\n",
        "        self.column_count = 3\n",
        "        self.action_size = self.row_count * self.column_count\n",
        "\n",
        "    def get_initial_state(self):\n",
        "        return np.zeros((self.row_count, self.column_count))\n",
        "\n",
        "    def get_next_state(self, state, action, player):\n",
        "        row = action // self.column_count\n",
        "        column = action % self.column_count\n",
        "        state[row, column] = player\n",
        "        return state\n",
        "\n",
        "    def get_valid_moves(self, state):\n",
        "        return (state.reshape(-1) == 0).astype(np.uint8)\n",
        "\n",
        "    def check_win(self, state, action):\n",
        "        row = action // self.column_count\n",
        "        column = action % self.column_count\n",
        "        player = state[row, column]\n",
        "\n",
        "        return (\n",
        "            np.sum(state[row, :]) == player * self.column_count\n",
        "            or np.sum(state[:, column]) == player * self.row_count\n",
        "            or np.sum(np.diag(state)) == player * self.row_count\n",
        "            or np.sum(np.diag(np.flip(state, axis=0))) == player * self.row_count\n",
        "        )\n",
        "\n",
        "    def get_value_and_terminated(self, state, action):\n",
        "        if self.check_win(state, action):\n",
        "            return 1, True\n",
        "        if np.sum(self.get_valid_moves(state)) == 0:\n",
        "            return 0, True\n",
        "        return 0, False\n",
        "\n",
        "    def get_opponent(self, player):\n",
        "        return -player\n",
        "\n",
        "def plot_tictactoe(state):\n",
        "    fig, ax = plt.subplots(figsize=(3, 3))\n",
        "    ax.imshow(np.zeros_like(state), cmap='Greys', alpha=0.5)\n",
        "\n",
        "    # Draw the grid lines\n",
        "    for i in range(1, 3):\n",
        "        ax.axhline(i - 0.5, color='black', linewidth=2)\n",
        "        ax.axvline(i - 0.5, color='black', linewidth=2)\n",
        "\n",
        "    # Plot X's and O's\n",
        "    for r in range(state.shape[0]):\n",
        "        for c in range(state.shape[1]):\n",
        "            if state[r, c] == 1:\n",
        "                ax.text(c, r, 'X', ha='center', va='center', fontsize=40, color='blue')\n",
        "            elif state[r, c] == -1:\n",
        "                ax.text(c, r, 'O', ha='center', va='center', fontsize=40, color='red')\n",
        "\n",
        "    ax.set_xticks([])\n",
        "    ax.set_yticks([])\n",
        "    ax.set_xlim(-0.5, 2.5)\n",
        "    ax.set_ylim(2.5, -0.5)\n",
        "    ax.set_aspect('equal', adjustable='box')\n",
        "    plt.show()\n",
        "\n",
        "\n",
        "tictactoe = TicTacToe()\n",
        "player = 1\n",
        "state = tictactoe.get_initial_state()\n",
        "\n",
        "while True:\n",
        "    print(state)\n",
        "    valid_moves = tictactoe.get_valid_moves(state)\n",
        "    print(\"valid_moves\", [i for i in range(tictactoe.action_size) if valid_moves[i] == 1])\n",
        "    action = int(input(f\"{player}:\"))\n",
        "\n",
        "    if valid_moves[action] == 0:\n",
        "        print(\"action not valid\")\n",
        "        continue\n",
        "\n",
        "    state = tictactoe.get_next_state(state, action, player)\n",
        "\n",
        "    value, is_terminal = tictactoe.get_value_and_terminated(state, action)\n",
        "\n",
        "    if is_terminal:\n",
        "        print(state)\n",
        "        if value == 1:\n",
        "            print(player, \"won\")\n",
        "        else:\n",
        "            print(\"draw\")\n",
        "        plot_tictactoe(state)\n",
        "        break\n",
        "\n",
        "    player = tictactoe.get_opponent(player)"
      ],
      "id": "cf1f1e4d",
      "execution_count": null,
      "outputs": [
        {
          "output_type": "stream",
          "name": "stdout",
          "text": [
            "[[0. 0. 0.]\n",
            " [0. 0. 0.]\n",
            " [0. 0. 0.]]\n",
            "valid_moves [0, 1, 2, 3, 4, 5, 6, 7, 8]\n"
          ]
        }
      ]
    },
    {
      "cell_type": "code",
      "metadata": {
        "id": "eb145176"
      },
      "source": [
        "import matplotlib.pyplot as plt\n",
        "import numpy as np\n",
        "\n",
        "def plot_tictactoe(state):\n",
        "    fig, ax = plt.subplots(figsize=(3, 3))\n",
        "    ax.imshow(np.zeros_like(state), cmap='Greys', alpha=0.5)\n",
        "\n",
        "    # Draw the grid lines\n",
        "    for i in range(1, 3):\n",
        "        ax.axhline(i - 0.5, color='black', linewidth=2)\n",
        "        ax.axvline(i - 0.5, color='black', linewidth=2)\n",
        "\n",
        "    # Plot X's and O's\n",
        "    for r in range(state.shape[0]):\n",
        "        for c in range(state.shape[1]):\n",
        "            if state[r, c] == 1:\n",
        "                ax.text(c, r, 'X', ha='center', va='center', fontsize=40, color='blue')\n",
        "            elif state[r, c] == -1:\n",
        "                ax.text(c, r, 'O', ha='center', va='center', fontsize=40, color='red')\n",
        "\n",
        "    ax.set_xticks([])\n",
        "    ax.set_yticks([])\n",
        "    ax.set_xlim(-0.5, 2.5)\n",
        "    ax.set_ylim(2.5, -0.5)\n",
        "    ax.set_aspect('equal', adjustable='box')\n",
        "    plt.show()"
      ],
      "id": "eb145176",
      "execution_count": 2,
      "outputs": []
    },
    {
      "cell_type": "code",
      "execution_count": 3,
      "id": "bc112e57",
      "metadata": {
        "colab": {
          "base_uri": "https://localhost:8080/",
          "height": 216
        },
        "id": "bc112e57",
        "outputId": "d671c1e5-ab0f-44ea-bf63-52fc4a02b96b"
      },
      "outputs": [
        {
          "output_type": "error",
          "ename": "NameError",
          "evalue": "name 'TicTacToe' is not defined",
          "traceback": [
            "\u001b[0;31m---------------------------------------------------------------------------\u001b[0m",
            "\u001b[0;31mNameError\u001b[0m                                 Traceback (most recent call last)",
            "\u001b[0;32m/tmp/ipython-input-1280855719.py\u001b[0m in \u001b[0;36m<cell line: 0>\u001b[0;34m()\u001b[0m\n\u001b[0;32m----> 1\u001b[0;31m \u001b[0mtictactoe\u001b[0m \u001b[0;34m=\u001b[0m \u001b[0mTicTacToe\u001b[0m\u001b[0;34m(\u001b[0m\u001b[0;34m)\u001b[0m\u001b[0;34m\u001b[0m\u001b[0;34m\u001b[0m\u001b[0m\n\u001b[0m\u001b[1;32m      2\u001b[0m \u001b[0mplayer\u001b[0m \u001b[0;34m=\u001b[0m \u001b[0;36m1\u001b[0m\u001b[0;34m\u001b[0m\u001b[0;34m\u001b[0m\u001b[0m\n\u001b[1;32m      3\u001b[0m \u001b[0;34m\u001b[0m\u001b[0m\n\u001b[1;32m      4\u001b[0m \u001b[0mstate\u001b[0m \u001b[0;34m=\u001b[0m \u001b[0mtictactoe\u001b[0m\u001b[0;34m.\u001b[0m\u001b[0mget_initial_state\u001b[0m\u001b[0;34m(\u001b[0m\u001b[0;34m)\u001b[0m\u001b[0;34m\u001b[0m\u001b[0;34m\u001b[0m\u001b[0m\n\u001b[1;32m      5\u001b[0m \u001b[0;34m\u001b[0m\u001b[0m\n",
            "\u001b[0;31mNameError\u001b[0m: name 'TicTacToe' is not defined"
          ]
        }
      ],
      "source": [
        "tictactoe = TicTacToe()\n",
        "player = 1\n",
        "\n",
        "state = tictactoe.get_initial_state()\n",
        "\n",
        "\n",
        "while True:\n",
        "    print(state)\n",
        "    valid_moves = tictactoe.get_valid_moves(state)\n",
        "    print(\"valid_moves\", [i for i in range(tictactoe.action_size) if valid_moves[i] == 1])\n",
        "    action = int(input(f\"{player}:\"))\n",
        "\n",
        "    if valid_moves[action] == 0:\n",
        "        print(\"action not valid\")\n",
        "        continue\n",
        "\n",
        "    state = tictactoe.get_next_state(state, action, player)\n",
        "\n",
        "    value, is_terminal = tictactoe.get_value_and_terminated(state, action)\n",
        "\n",
        "    if is_terminal:\n",
        "        print(state)\n",
        "        if value == 1:\n",
        "            print(player, \"won\")\n",
        "        else:\n",
        "            print(\"draw\")\n",
        "        plot_tictactoe(state)  # Call plot_tictactoe here\n",
        "        break\n",
        "\n",
        "\n",
        "    player = tictactoe.get_opponent(player)"
      ]
    }
  ],
  "metadata": {
    "kernelspec": {
      "display_name": "myenv",
      "language": "python",
      "name": "python3"
    },
    "language_info": {
      "codemirror_mode": {
        "name": "ipython",
        "version": 3
      },
      "file_extension": ".py",
      "mimetype": "text/x-python",
      "name": "python",
      "nbconvert_exporter": "python",
      "pygments_lexer": "ipython3",
      "version": "3.8.13 (default, Mar 28 2022, 11:38:47) \n[GCC 7.5.0]"
    },
    "vscode": {
      "interpreter": {
        "hash": "2177f1ca12c1330a133c1d40b46100b268ab447cddcbdfdc0c7b2b7e4840e700"
      }
    },
    "colab": {
      "provenance": []
    }
  },
  "nbformat": 4,
  "nbformat_minor": 5
}